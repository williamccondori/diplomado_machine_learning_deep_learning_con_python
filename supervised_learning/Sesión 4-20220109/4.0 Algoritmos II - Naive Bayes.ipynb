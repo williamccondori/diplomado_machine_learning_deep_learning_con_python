{
 "cells": [
  {
   "cell_type": "code",
   "execution_count": 1,
   "metadata": {},
   "outputs": [],
   "source": [
    "import pandas as pd\n",
    "import numpy as np\n",
    "import matplotlib.pyplot as plt"
   ]
  },
  {
   "cell_type": "code",
   "execution_count": 2,
   "metadata": {},
   "outputs": [
    {
     "data": {
      "text/html": [
       "<div>\n",
       "<style scoped>\n",
       "    .dataframe tbody tr th:only-of-type {\n",
       "        vertical-align: middle;\n",
       "    }\n",
       "\n",
       "    .dataframe tbody tr th {\n",
       "        vertical-align: top;\n",
       "    }\n",
       "\n",
       "    .dataframe thead th {\n",
       "        text-align: right;\n",
       "    }\n",
       "</style>\n",
       "<table border=\"1\" class=\"dataframe\">\n",
       "  <thead>\n",
       "    <tr style=\"text-align: right;\">\n",
       "      <th></th>\n",
       "      <th>ingresos</th>\n",
       "      <th>gastos_comunes</th>\n",
       "      <th>pago_coche</th>\n",
       "      <th>gastos_otros</th>\n",
       "      <th>ahorros</th>\n",
       "      <th>vivienda</th>\n",
       "      <th>estado_civil</th>\n",
       "      <th>hijos</th>\n",
       "      <th>trabajo</th>\n",
       "      <th>comprar</th>\n",
       "    </tr>\n",
       "  </thead>\n",
       "  <tbody>\n",
       "    <tr>\n",
       "      <th>0</th>\n",
       "      <td>6000</td>\n",
       "      <td>1000</td>\n",
       "      <td>0</td>\n",
       "      <td>600</td>\n",
       "      <td>50000</td>\n",
       "      <td>400000</td>\n",
       "      <td>0</td>\n",
       "      <td>2</td>\n",
       "      <td>2</td>\n",
       "      <td>1</td>\n",
       "    </tr>\n",
       "    <tr>\n",
       "      <th>1</th>\n",
       "      <td>6745</td>\n",
       "      <td>944</td>\n",
       "      <td>123</td>\n",
       "      <td>429</td>\n",
       "      <td>43240</td>\n",
       "      <td>636897</td>\n",
       "      <td>1</td>\n",
       "      <td>3</td>\n",
       "      <td>6</td>\n",
       "      <td>0</td>\n",
       "    </tr>\n",
       "    <tr>\n",
       "      <th>2</th>\n",
       "      <td>6455</td>\n",
       "      <td>1033</td>\n",
       "      <td>98</td>\n",
       "      <td>795</td>\n",
       "      <td>57463</td>\n",
       "      <td>321779</td>\n",
       "      <td>2</td>\n",
       "      <td>1</td>\n",
       "      <td>8</td>\n",
       "      <td>1</td>\n",
       "    </tr>\n",
       "    <tr>\n",
       "      <th>3</th>\n",
       "      <td>7098</td>\n",
       "      <td>1278</td>\n",
       "      <td>15</td>\n",
       "      <td>254</td>\n",
       "      <td>54506</td>\n",
       "      <td>660933</td>\n",
       "      <td>0</td>\n",
       "      <td>0</td>\n",
       "      <td>3</td>\n",
       "      <td>0</td>\n",
       "    </tr>\n",
       "    <tr>\n",
       "      <th>4</th>\n",
       "      <td>6167</td>\n",
       "      <td>863</td>\n",
       "      <td>223</td>\n",
       "      <td>520</td>\n",
       "      <td>41512</td>\n",
       "      <td>348932</td>\n",
       "      <td>0</td>\n",
       "      <td>0</td>\n",
       "      <td>3</td>\n",
       "      <td>1</td>\n",
       "    </tr>\n",
       "  </tbody>\n",
       "</table>\n",
       "</div>"
      ],
      "text/plain": [
       "   ingresos  gastos_comunes  pago_coche  gastos_otros  ahorros  vivienda  \\\n",
       "0      6000            1000           0           600    50000    400000   \n",
       "1      6745             944         123           429    43240    636897   \n",
       "2      6455            1033          98           795    57463    321779   \n",
       "3      7098            1278          15           254    54506    660933   \n",
       "4      6167             863         223           520    41512    348932   \n",
       "\n",
       "   estado_civil  hijos  trabajo  comprar  \n",
       "0             0      2        2        1  \n",
       "1             1      3        6        0  \n",
       "2             2      1        8        1  \n",
       "3             0      0        3        0  \n",
       "4             0      0        3        1  "
      ]
     },
     "execution_count": 2,
     "metadata": {},
     "output_type": "execute_result"
    }
   ],
   "source": [
    "mainpath = \"C:/Users/Jorge/PDE_DSML_Notebooks/data/\"\n",
    "filename = \"comprar_alquilar.csv\"\n",
    "data = pd.read_csv(mainpath + \"/\" + filename,sep=\",\")\n",
    "data.head()"
   ]
  },
  {
   "cell_type": "markdown",
   "metadata": {},
   "source": [
    "* **ingresos:** los ingresos de la familia mensual\n",
    "* **gastos comunes:** pagos de luz, agua, gas, etc mensual \n",
    "* **pago coche:** si se está pagando cuota por uno o más coches, y los gastos en combustible, etc al mes.\n",
    "* **gastos_otros:** compra en supermercado y lo necesario para vivir al mes \n",
    "* **ahorros:** suma de ahorros dispuestos a usar para la compra de la casa. \n",
    "* **vivienda:** precio de la vivienda que quiere comprar esa familia \n",
    "* **estado civil:** 0-soltero 1-casados 2-divorciados \n",
    "* **hijos:** cantidad de hijos menores y que no trabajan. \n",
    "* **trabajo:** 0-sin empleo 1-autónomo (freelance) 2-empleado 3-empresario 4-pareja: autónomos 5-pareja: empleados 6-pareja: autónomo y asalariado 7-pareja:empresario y autónomo 8-pareja: empresarios los dos o empresario y empleado \n",
    "* **comprar:** 0-No comprar 1-Comprar (esta será nuestra columna de salida, para aprender)"
   ]
  },
  {
   "cell_type": "code",
   "execution_count": 3,
   "metadata": {},
   "outputs": [
    {
     "data": {
      "text/html": [
       "<div>\n",
       "<style scoped>\n",
       "    .dataframe tbody tr th:only-of-type {\n",
       "        vertical-align: middle;\n",
       "    }\n",
       "\n",
       "    .dataframe tbody tr th {\n",
       "        vertical-align: top;\n",
       "    }\n",
       "\n",
       "    .dataframe thead th {\n",
       "        text-align: right;\n",
       "    }\n",
       "</style>\n",
       "<table border=\"1\" class=\"dataframe\">\n",
       "  <thead>\n",
       "    <tr style=\"text-align: right;\">\n",
       "      <th></th>\n",
       "      <th>ingresos</th>\n",
       "      <th>ahorros</th>\n",
       "      <th>vivienda</th>\n",
       "      <th>estado_civil</th>\n",
       "      <th>hijos</th>\n",
       "      <th>trabajo</th>\n",
       "      <th>comprar</th>\n",
       "      <th>gastos</th>\n",
       "      <th>financiar</th>\n",
       "    </tr>\n",
       "  </thead>\n",
       "  <tbody>\n",
       "    <tr>\n",
       "      <th>0</th>\n",
       "      <td>6000</td>\n",
       "      <td>50000</td>\n",
       "      <td>400000</td>\n",
       "      <td>0</td>\n",
       "      <td>2</td>\n",
       "      <td>2</td>\n",
       "      <td>1</td>\n",
       "      <td>1600</td>\n",
       "      <td>350000</td>\n",
       "    </tr>\n",
       "    <tr>\n",
       "      <th>1</th>\n",
       "      <td>6745</td>\n",
       "      <td>43240</td>\n",
       "      <td>636897</td>\n",
       "      <td>1</td>\n",
       "      <td>3</td>\n",
       "      <td>6</td>\n",
       "      <td>0</td>\n",
       "      <td>1496</td>\n",
       "      <td>593657</td>\n",
       "    </tr>\n",
       "    <tr>\n",
       "      <th>2</th>\n",
       "      <td>6455</td>\n",
       "      <td>57463</td>\n",
       "      <td>321779</td>\n",
       "      <td>2</td>\n",
       "      <td>1</td>\n",
       "      <td>8</td>\n",
       "      <td>1</td>\n",
       "      <td>1926</td>\n",
       "      <td>264316</td>\n",
       "    </tr>\n",
       "    <tr>\n",
       "      <th>3</th>\n",
       "      <td>7098</td>\n",
       "      <td>54506</td>\n",
       "      <td>660933</td>\n",
       "      <td>0</td>\n",
       "      <td>0</td>\n",
       "      <td>3</td>\n",
       "      <td>0</td>\n",
       "      <td>1547</td>\n",
       "      <td>606427</td>\n",
       "    </tr>\n",
       "    <tr>\n",
       "      <th>4</th>\n",
       "      <td>6167</td>\n",
       "      <td>41512</td>\n",
       "      <td>348932</td>\n",
       "      <td>0</td>\n",
       "      <td>0</td>\n",
       "      <td>3</td>\n",
       "      <td>1</td>\n",
       "      <td>1606</td>\n",
       "      <td>307420</td>\n",
       "    </tr>\n",
       "    <tr>\n",
       "      <th>5</th>\n",
       "      <td>5692</td>\n",
       "      <td>50875</td>\n",
       "      <td>360863</td>\n",
       "      <td>1</td>\n",
       "      <td>4</td>\n",
       "      <td>5</td>\n",
       "      <td>1</td>\n",
       "      <td>1247</td>\n",
       "      <td>309988</td>\n",
       "    </tr>\n",
       "    <tr>\n",
       "      <th>6</th>\n",
       "      <td>6830</td>\n",
       "      <td>46761</td>\n",
       "      <td>429812</td>\n",
       "      <td>1</td>\n",
       "      <td>1</td>\n",
       "      <td>5</td>\n",
       "      <td>1</td>\n",
       "      <td>1952</td>\n",
       "      <td>383051</td>\n",
       "    </tr>\n",
       "    <tr>\n",
       "      <th>7</th>\n",
       "      <td>6470</td>\n",
       "      <td>57439</td>\n",
       "      <td>606291</td>\n",
       "      <td>0</td>\n",
       "      <td>0</td>\n",
       "      <td>1</td>\n",
       "      <td>0</td>\n",
       "      <td>1856</td>\n",
       "      <td>548852</td>\n",
       "    </tr>\n",
       "    <tr>\n",
       "      <th>8</th>\n",
       "      <td>6251</td>\n",
       "      <td>50503</td>\n",
       "      <td>291010</td>\n",
       "      <td>0</td>\n",
       "      <td>0</td>\n",
       "      <td>3</td>\n",
       "      <td>1</td>\n",
       "      <td>2030</td>\n",
       "      <td>240507</td>\n",
       "    </tr>\n",
       "    <tr>\n",
       "      <th>9</th>\n",
       "      <td>6987</td>\n",
       "      <td>40611</td>\n",
       "      <td>324098</td>\n",
       "      <td>2</td>\n",
       "      <td>1</td>\n",
       "      <td>7</td>\n",
       "      <td>1</td>\n",
       "      <td>1755</td>\n",
       "      <td>283487</td>\n",
       "    </tr>\n",
       "  </tbody>\n",
       "</table>\n",
       "</div>"
      ],
      "text/plain": [
       "   ingresos  ahorros  vivienda  estado_civil  hijos  trabajo  comprar  gastos  \\\n",
       "0      6000    50000    400000             0      2        2        1    1600   \n",
       "1      6745    43240    636897             1      3        6        0    1496   \n",
       "2      6455    57463    321779             2      1        8        1    1926   \n",
       "3      7098    54506    660933             0      0        3        0    1547   \n",
       "4      6167    41512    348932             0      0        3        1    1606   \n",
       "5      5692    50875    360863             1      4        5        1    1247   \n",
       "6      6830    46761    429812             1      1        5        1    1952   \n",
       "7      6470    57439    606291             0      0        1        0    1856   \n",
       "8      6251    50503    291010             0      0        3        1    2030   \n",
       "9      6987    40611    324098             2      1        7        1    1755   \n",
       "\n",
       "   financiar  \n",
       "0     350000  \n",
       "1     593657  \n",
       "2     264316  \n",
       "3     606427  \n",
       "4     307420  \n",
       "5     309988  \n",
       "6     383051  \n",
       "7     548852  \n",
       "8     240507  \n",
       "9     283487  "
      ]
     },
     "execution_count": 3,
     "metadata": {},
     "output_type": "execute_result"
    }
   ],
   "source": [
    "data['gastos']=(data['gastos_comunes']+data['gastos_otros']+data['pago_coche'])\n",
    "data['financiar']=data['vivienda']-data['ahorros']\n",
    "data.drop(['gastos_comunes','gastos_otros','pago_coche'], axis=1).head(10)"
   ]
  },
  {
   "cell_type": "code",
   "execution_count": 4,
   "metadata": {},
   "outputs": [
    {
     "name": "stdout",
     "output_type": "stream",
     "text": [
      "Index(['ingresos', 'ahorros', 'hijos', 'trabajo', 'financiar'], dtype='object')\n"
     ]
    }
   ],
   "source": [
    "from sklearn.feature_selection import SelectKBest\n",
    "#NUEVA TÉCNICA DE FEATURE SELECTION\n",
    "X=data.drop(['comprar'], axis=1)\n",
    "y=data['comprar']\n",
    " \n",
    "best=SelectKBest(k=5)\n",
    "X_new = best.fit_transform(X, y)\n",
    "X_new.shape\n",
    "selected = best.get_support(indices=True)\n",
    "print(X.columns[selected])"
   ]
  },
  {
   "cell_type": "code",
   "execution_count": 5,
   "metadata": {},
   "outputs": [
    {
     "data": {
      "text/plain": [
       "<matplotlib.axes._subplots.AxesSubplot at 0x1d5888942e0>"
      ]
     },
     "execution_count": 5,
     "metadata": {},
     "output_type": "execute_result"
    },
    {
     "data": {
      "image/png": "[encoded data removed]",
      "text/plain": [
       "<Figure size 864x864 with 2 Axes>"
      ]
     },
     "metadata": {
      "needs_background": "light"
     },
     "output_type": "display_data"
    }
   ],
   "source": [
    "import seaborn as sb\n",
    "used_features =X.columns[selected]\n",
    "\n",
    "colormap = plt.cm.viridis\n",
    "plt.figure(figsize=(12,12))\n",
    "plt.title('Pearson Correlation of Features', y=1.05, size=15)\n",
    "sb.heatmap(data[used_features].astype(float).corr(),linewidths=0.1,vmax=1.0, square=True, cmap=colormap, linecolor='white', annot=True)"
   ]
  },
  {
   "cell_type": "code",
   "execution_count": 6,
   "metadata": {},
   "outputs": [
    {
     "data": {
      "text/html": [
       "<div>\n",
       "<style scoped>\n",
       "    .dataframe tbody tr th:only-of-type {\n",
       "        vertical-align: middle;\n",
       "    }\n",
       "\n",
       "    .dataframe tbody tr th {\n",
       "        vertical-align: top;\n",
       "    }\n",
       "\n",
       "    .dataframe thead th {\n",
       "        text-align: right;\n",
       "    }\n",
       "</style>\n",
       "<table border=\"1\" class=\"dataframe\">\n",
       "  <thead>\n",
       "    <tr style=\"text-align: right;\">\n",
       "      <th></th>\n",
       "      <th>ingresos</th>\n",
       "      <th>ahorros</th>\n",
       "      <th>hijos</th>\n",
       "      <th>trabajo</th>\n",
       "      <th>financiar</th>\n",
       "    </tr>\n",
       "  </thead>\n",
       "  <tbody>\n",
       "    <tr>\n",
       "      <th>ingresos</th>\n",
       "      <td>NaN</td>\n",
       "      <td>0.712889</td>\n",
       "      <td>NaN</td>\n",
       "      <td>NaN</td>\n",
       "      <td>NaN</td>\n",
       "    </tr>\n",
       "  </tbody>\n",
       "</table>\n",
       "</div>"
      ],
      "text/plain": [
       "          ingresos   ahorros  hijos  trabajo  financiar\n",
       "ingresos       NaN  0.712889    NaN      NaN        NaN"
      ]
     },
     "execution_count": 6,
     "metadata": {},
     "output_type": "execute_result"
    }
   ],
   "source": [
    "m_corr=data[used_features].astype(float).corr()\n",
    "m_corr[0:1][m_corr.iloc[0:1,1:]>0.7]"
   ]
  },
  {
   "cell_type": "code",
   "execution_count": 7,
   "metadata": {
    "scrolled": true
   },
   "outputs": [
    {
     "data": {
      "text/html": [
       "<div>\n",
       "<style scoped>\n",
       "    .dataframe tbody tr th:only-of-type {\n",
       "        vertical-align: middle;\n",
       "    }\n",
       "\n",
       "    .dataframe tbody tr th {\n",
       "        vertical-align: top;\n",
       "    }\n",
       "\n",
       "    .dataframe thead th {\n",
       "        text-align: right;\n",
       "    }\n",
       "</style>\n",
       "<table border=\"1\" class=\"dataframe\">\n",
       "  <thead>\n",
       "    <tr style=\"text-align: right;\">\n",
       "      <th></th>\n",
       "      <th>ingresos</th>\n",
       "      <th>ahorros</th>\n",
       "      <th>hijos</th>\n",
       "      <th>trabajo</th>\n",
       "      <th>financiar</th>\n",
       "    </tr>\n",
       "  </thead>\n",
       "  <tbody>\n",
       "    <tr>\n",
       "      <th>ingresos</th>\n",
       "      <td>1.000000</td>\n",
       "      <td>0.712889</td>\n",
       "      <td>-0.024483</td>\n",
       "      <td>-0.038852</td>\n",
       "      <td>0.564351</td>\n",
       "    </tr>\n",
       "    <tr>\n",
       "      <th>ahorros</th>\n",
       "      <td>0.712889</td>\n",
       "      <td>1.000000</td>\n",
       "      <td>0.001445</td>\n",
       "      <td>-0.023829</td>\n",
       "      <td>0.515402</td>\n",
       "    </tr>\n",
       "    <tr>\n",
       "      <th>hijos</th>\n",
       "      <td>-0.024483</td>\n",
       "      <td>0.001445</td>\n",
       "      <td>1.000000</td>\n",
       "      <td>0.699916</td>\n",
       "      <td>-0.153068</td>\n",
       "    </tr>\n",
       "    <tr>\n",
       "      <th>trabajo</th>\n",
       "      <td>-0.038852</td>\n",
       "      <td>-0.023829</td>\n",
       "      <td>0.699916</td>\n",
       "      <td>1.000000</td>\n",
       "      <td>-0.224855</td>\n",
       "    </tr>\n",
       "    <tr>\n",
       "      <th>financiar</th>\n",
       "      <td>0.564351</td>\n",
       "      <td>0.515402</td>\n",
       "      <td>-0.153068</td>\n",
       "      <td>-0.224855</td>\n",
       "      <td>1.000000</td>\n",
       "    </tr>\n",
       "  </tbody>\n",
       "</table>\n",
       "</div>"
      ],
      "text/plain": [
       "           ingresos   ahorros     hijos   trabajo  financiar\n",
       "ingresos   1.000000  0.712889 -0.024483 -0.038852   0.564351\n",
       "ahorros    0.712889  1.000000  0.001445 -0.023829   0.515402\n",
       "hijos     -0.024483  0.001445  1.000000  0.699916  -0.153068\n",
       "trabajo   -0.038852 -0.023829  0.699916  1.000000  -0.224855\n",
       "financiar  0.564351  0.515402 -0.153068 -0.224855   1.000000"
      ]
     },
     "execution_count": 7,
     "metadata": {},
     "output_type": "execute_result"
    }
   ],
   "source": [
    "m_corr"
   ]
  },
  {
   "cell_type": "code",
   "execution_count": 8,
   "metadata": {},
   "outputs": [],
   "source": [
    "from sklearn.model_selection import train_test_split\n",
    "X_train, X_test = train_test_split(data, test_size=0.2, random_state=6) \n",
    "y_train =X_train[\"comprar\"]\n",
    "y_test = X_test[\"comprar\"]"
   ]
  },
  {
   "cell_type": "markdown",
   "metadata": {},
   "source": [
    "# Gaussian Naive Bayes (GaussianNB)\n",
    "Necesitamos que cumpla suposiciones de distribución normal e independencia entre sí"
   ]
  },
  {
   "cell_type": "code",
   "execution_count": 9,
   "metadata": {},
   "outputs": [
    {
     "name": "stdout",
     "output_type": "stream",
     "text": [
      "Precisión en el set de Entrenamiento: 0.87\n",
      "Precisión en el set de Test: 0.90\n"
     ]
    }
   ],
   "source": [
    "from sklearn.naive_bayes import GaussianNB\n",
    "# Instantiate the classifier\n",
    "gnb = GaussianNB()\n",
    "# Train classifier\n",
    "gnb.fit(\n",
    "    X_train[used_features].values,\n",
    "    y_train\n",
    ")\n",
    "y_pred = gnb.predict(X_test[used_features])\n",
    "\n",
    "print('Precisión en el set de Entrenamiento: {:.2f}'\n",
    "     .format(gnb.score(X_train[used_features], y_train)))\n",
    "print('Precisión en el set de Test: {:.2f}'\n",
    "     .format(gnb.score(X_test[used_features], y_test)))"
   ]
  },
  {
   "cell_type": "markdown",
   "metadata": {},
   "source": [
    "# Naive Bayes classifier for multivariate Bernoulli models.\n",
    "Este clasificador es adecuado para datos discretos. BernoulliNB está diseñado para características binarias/booleanas.\n",
    "Solo considera las categorias 1 o 0, no toma en cuenta las veces en la que aparece."
   ]
  },
  {
   "cell_type": "code",
   "execution_count": 10,
   "metadata": {},
   "outputs": [
    {
     "name": "stdout",
     "output_type": "stream",
     "text": [
      "Precisión en el set de Entrenamiento: 0.69\n",
      "Precisión en el set de Test: 0.59\n"
     ]
    }
   ],
   "source": [
    "from sklearn.naive_bayes import BernoulliNB\n",
    "# Instantiate the classifier\n",
    "gnb = BernoulliNB()\n",
    "# Train classifier\n",
    "gnb.fit(\n",
    "    X_train[used_features].values,\n",
    "    y_train\n",
    ")\n",
    "y_pred = gnb.predict(X_test[used_features])\n",
    "\n",
    "print('Precisión en el set de Entrenamiento: {:.2f}'\n",
    "     .format(gnb.score(X_train[used_features], y_train)))\n",
    "print('Precisión en el set de Test: {:.2f}'\n",
    "     .format(gnb.score(X_test[used_features], y_test)))"
   ]
  },
  {
   "cell_type": "markdown",
   "metadata": {},
   "source": [
    "# Naive Bayes classifier for categorical features\n",
    "El clasificador categórico Naive Bayes es adecuado para la clasificación con características discretas que se distribuyen categóricamente."
   ]
  },
  {
   "cell_type": "code",
   "execution_count": 11,
   "metadata": {},
   "outputs": [
    {
     "name": "stdout",
     "output_type": "stream",
     "text": [
      "Precisión en el set de Entrenamiento: 0.96\n",
      "Precisión en el set de Test: 0.66\n"
     ]
    }
   ],
   "source": [
    "from sklearn.naive_bayes import CategoricalNB\n",
    "# Instantiate the classifier\n",
    "gnb = CategoricalNB()\n",
    "# Train classifier\n",
    "gnb.fit(\n",
    "    X_train[used_features].values,\n",
    "    y_train\n",
    ")\n",
    "y_pred = gnb.predict(X_test[used_features])\n",
    "\n",
    "print('Precisión en el set de Entrenamiento: {:.2f}'\n",
    "     .format(gnb.score(X_train[used_features], y_train)))\n",
    "print('Precisión en el set de Test: {:.2f}'\n",
    "     .format(gnb.score(X_test[used_features], y_test)))"
   ]
  },
  {
   "cell_type": "markdown",
   "metadata": {},
   "source": [
    "# Naive Bayes classifier for multinomial models\n",
    "El clasificador multinomial Naive Bayes es adecuado para la clasificación con características discretas (por ejemplo, recuentos de palabras para la clasificación de texto). La distribución multinomial normalmente requiere recuentos de entidades de enteros.\n",
    "\n",
    "No solo mide la categoría 1 o 0 sino cuantas veces aparecen las categorías"
   ]
  },
  {
   "cell_type": "code",
   "execution_count": 12,
   "metadata": {},
   "outputs": [
    {
     "name": "stdout",
     "output_type": "stream",
     "text": [
      "Precisión en el set de Entrenamiento: 0.81\n",
      "Precisión en el set de Test: 0.76\n"
     ]
    }
   ],
   "source": [
    "from sklearn.naive_bayes import MultinomialNB\n",
    "# Instantiate the classifier\n",
    "gnb = MultinomialNB()\n",
    "# Train classifier\n",
    "gnb.fit(\n",
    "    X_train[used_features].values,\n",
    "    y_train\n",
    ")\n",
    "y_pred = gnb.predict(X_test[used_features])\n",
    "\n",
    "print('Precisión en el set de Entrenamiento: {:.2f}'\n",
    "     .format(gnb.score(X_train[used_features], y_train)))\n",
    "print('Precisión en el set de Test: {:.2f}'\n",
    "     .format(gnb.score(X_test[used_features], y_test)))"
   ]
  },
  {
   "cell_type": "code",
   "execution_count": 13,
   "metadata": {},
   "outputs": [
    {
     "data": {
      "text/html": [
       "<div>\n",
       "<style scoped>\n",
       "    .dataframe tbody tr th:only-of-type {\n",
       "        vertical-align: middle;\n",
       "    }\n",
       "\n",
       "    .dataframe tbody tr th {\n",
       "        vertical-align: top;\n",
       "    }\n",
       "\n",
       "    .dataframe thead th {\n",
       "        text-align: right;\n",
       "    }\n",
       "</style>\n",
       "<table border=\"1\" class=\"dataframe\">\n",
       "  <thead>\n",
       "    <tr style=\"text-align: right;\">\n",
       "      <th>comprar</th>\n",
       "      <th>0</th>\n",
       "      <th>1</th>\n",
       "    </tr>\n",
       "    <tr>\n",
       "      <th>row_0</th>\n",
       "      <th></th>\n",
       "      <th></th>\n",
       "    </tr>\n",
       "  </thead>\n",
       "  <tbody>\n",
       "    <tr>\n",
       "      <th>0</th>\n",
       "      <td>89</td>\n",
       "      <td>8</td>\n",
       "    </tr>\n",
       "    <tr>\n",
       "      <th>1</th>\n",
       "      <td>22</td>\n",
       "      <td>42</td>\n",
       "    </tr>\n",
       "  </tbody>\n",
       "</table>\n",
       "</div>"
      ],
      "text/plain": [
       "comprar   0   1\n",
       "row_0          \n",
       "0        89   8\n",
       "1        22  42"
      ]
     },
     "execution_count": 13,
     "metadata": {},
     "output_type": "execute_result"
    }
   ],
   "source": [
    "confusion_matrix = pd.crosstab(gnb.predict(X_train[used_features].values), y_train)\n",
    "confusion_matrix"
   ]
  },
  {
   "cell_type": "code",
   "execution_count": 14,
   "metadata": {},
   "outputs": [
    {
     "data": {
      "text/html": [
       "<div>\n",
       "<style scoped>\n",
       "    .dataframe tbody tr th:only-of-type {\n",
       "        vertical-align: middle;\n",
       "    }\n",
       "\n",
       "    .dataframe tbody tr th {\n",
       "        vertical-align: top;\n",
       "    }\n",
       "\n",
       "    .dataframe thead th {\n",
       "        text-align: right;\n",
       "    }\n",
       "</style>\n",
       "<table border=\"1\" class=\"dataframe\">\n",
       "  <thead>\n",
       "    <tr style=\"text-align: right;\">\n",
       "      <th>comprar</th>\n",
       "      <th>0</th>\n",
       "      <th>1</th>\n",
       "    </tr>\n",
       "    <tr>\n",
       "      <th>row_0</th>\n",
       "      <th></th>\n",
       "      <th></th>\n",
       "    </tr>\n",
       "  </thead>\n",
       "  <tbody>\n",
       "    <tr>\n",
       "      <th>0</th>\n",
       "      <td>19</td>\n",
       "      <td>5</td>\n",
       "    </tr>\n",
       "    <tr>\n",
       "      <th>1</th>\n",
       "      <td>5</td>\n",
       "      <td>12</td>\n",
       "    </tr>\n",
       "  </tbody>\n",
       "</table>\n",
       "</div>"
      ],
      "text/plain": [
       "comprar   0   1\n",
       "row_0          \n",
       "0        19   5\n",
       "1         5  12"
      ]
     },
     "execution_count": 14,
     "metadata": {},
     "output_type": "execute_result"
    }
   ],
   "source": [
    "confusion_matrix = pd.crosstab(gnb.predict(X_test[used_features].values), y_test)\n",
    "confusion_matrix"
   ]
  },
  {
   "cell_type": "code",
   "execution_count": 15,
   "metadata": {},
   "outputs": [
    {
     "name": "stdout",
     "output_type": "stream",
     "text": [
      "0.6641441441441442\n",
      "0.5245098039215685\n"
     ]
    }
   ],
   "source": [
    "# Gini\n",
    "from sklearn.metrics import roc_auc_score\n",
    "print(2*roc_auc_score(y_train,gnb.predict_proba(X_train[used_features].values)[:,1])-1) \n",
    "print(2*roc_auc_score(y_test,gnb.predict_proba(X_test[used_features].values)[:,1])-1)"
   ]
  },
  {
   "cell_type": "code",
   "execution_count": null,
   "metadata": {},
   "outputs": [],
   "source": []
  }
 ],
 "metadata": {
  "kernelspec": {
   "display_name": "Python 3",
   "language": "python",
   "name": "python3"
  },
  "language_info": {
   "codemirror_mode": {
    "name": "ipython",
    "version": 3
   },
   "file_extension": ".py",
   "mimetype": "text/x-python",
   "name": "python",
   "nbconvert_exporter": "python",
   "pygments_lexer": "ipython3",
   "version": "3.8.3"
  }
 },
 "nbformat": 4,
 "nbformat_minor": 4
}
